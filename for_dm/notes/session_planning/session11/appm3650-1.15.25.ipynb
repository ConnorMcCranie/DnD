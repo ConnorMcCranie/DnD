{
 "cells": [
  {
   "cell_type": "code",
   "execution_count": null,
   "metadata": {},
   "outputs": [],
   "source": [
    "import time\n",
    "import random\n",
    "import numpy as np\n",
    "import matplotlib.pyplot as plt\n",
    "\n",
    "# Identifying duplicate Elements in a List of Integers\n",
    "# Write a function **'dup_elts(nums)'** that takes a list of integers and returns a list of the elements \n",
    "# (in any order) that appear more than once in the list. \n",
    "\n",
    "nums = []\n",
    "\n",
    "def dup_elts1(nums):\n",
    "    '''Returns a list of the elements that appear more than once in the list'''\n",
    "    unique = []\n",
    "    dups = []\n",
    "\n",
    "    for num in nums:\n",
    "        if num in unique:\n",
    "            dups.append(num)\n",
    "        else:\n",
    "            unique.append(num)\n",
    "\n",
    "    return list(set(dups))"
   ]
  },
  {
   "cell_type": "code",
   "execution_count": 2,
   "metadata": {},
   "outputs": [],
   "source": [
    "def dup_elts2(nums):\n",
    "    '''Returns a list of the elements that appear more than once in the list'''\n",
    "    return list(set([n for n in nums if nums.count(n) > 1]))"
   ]
  },
  {
   "cell_type": "code",
   "execution_count": 12,
   "metadata": {},
   "outputs": [],
   "source": [
    "def dup_elts3(nums):\n",
    "    '''Returns a list of the elements that appear more than once in the list'''\n",
    "    snums = sorted(nums)\n",
    "    dups = []\n",
    "\n",
    "    for i in range(1, len(snums)):\n",
    "        if snums[i] == snums[i-1] and (len(dups)==0 or dups[-1] != snums[i]):\n",
    "            dups.append(snums[i])\n",
    "    return dups"
   ]
  },
  {
   "cell_type": "code",
   "execution_count": 17,
   "metadata": {},
   "outputs": [],
   "source": [
    "def dup_elts4(nums):\n",
    "    '''Returns a list of the elements that appear more than once in the list'''\n",
    "    unique = set()\n",
    "    dups = set()\n",
    "\n",
    "    for n in nums:\n",
    "        if n in unique:\n",
    "            dups.add(n)\n",
    "        else:\n",
    "            unique.add(n)\n",
    "\n",
    "    return list(dups)"
   ]
  },
  {
   "cell_type": "code",
   "execution_count": 5,
   "metadata": {},
   "outputs": [],
   "source": [
    "def exec_time(func, arg):\n",
    "    '''Returns the execution time of a function'''\n",
    "    start = time.time()\n",
    "    func(arg)\n",
    "    end = time.time()\n",
    "    return end - start # elapsed time in seconds"
   ]
  },
  {
   "cell_type": "code",
   "execution_count": 6,
   "metadata": {},
   "outputs": [],
   "source": [
    "random.seed(2025)\n",
    "randnums = [random.randint(-1000, 1000) for _ in range(2000)]"
   ]
  },
  {
   "cell_type": "code",
   "execution_count": 18,
   "metadata": {},
   "outputs": [
    {
     "data": {
      "text/plain": [
       "0.0"
      ]
     },
     "execution_count": 18,
     "metadata": {},
     "output_type": "execute_result"
    }
   ],
   "source": [
    "exec_time(dup_elts4, randnums)"
   ]
  },
  {
   "cell_type": "markdown",
   "metadata": {},
   "source": [
    "Write a function **'tile(loc, corner, color=None)'** that displays a single Truchet tile with lower left at `loc = (x,y)` and `corer` equals one of these: `'LL', 'LR', 'UR', 'UL'`"
   ]
  },
  {
   "cell_type": "code",
   "execution_count": 27,
   "metadata": {},
   "outputs": [],
   "source": [
    "def tile(loc, corner, color=None):\n",
    "    '''Draws a tile at the specified location and corner'''\n",
    "    offsets = { 'LL': [(0,0), (1,0), (0,1)],\n",
    "                'LR': [(0,0), (1,0), (1,1)], \n",
    "                'UR': [(0,1), (1,1), (1,0)],\n",
    "                'UL': [(0,0), (0,1), (1,1)] } \n",
    "    \n",
    "    offsets_arr = np.array(offsets[corner]) # convert into 3x2 array\n",
    "    x, y = loc\n",
    "    xvals = x + offsets_arr[:,0]\n",
    "    yvals = y + offsets_arr[:,1]\n",
    "\n",
    "    if color is None:\n",
    "        plt.fill(xvals, yvals)\n",
    "    else:\n",
    "        plt.fill(xvals, yvals, color)\n",
    "    plt.axis('equal')\n",
    "    plt.axis('off')"
   ]
  },
  {
   "cell_type": "code",
   "execution_count": 28,
   "metadata": {},
   "outputs": [
    {
     "data": {
      "image/png": "[encoded data removed]",
      "text/plain": [
       "<Figure size 640x480 with 1 Axes>"
      ]
     },
     "metadata": {},
     "output_type": "display_data"
    }
   ],
   "source": [
    "tile((3,2), 'UR', 'm')"
   ]
  },
  {
   "cell_type": "code",
   "execution_count": 29,
   "metadata": {},
   "outputs": [],
   "source": [
    "def tiling(nrows, ncols, color=None):\n",
    "    ''' Display a TTruchet tiling with the given numver of rows and columns.\n",
    "    Choose random orientations. If no color specified, \n",
    "    default pyplot colors will be used.'''\n",
    "\n",
    "    for row in range(nrows):\n",
    "            for col in range(ncols):\n",
    "                corner = random.choice(['LL', 'LR', 'UR', 'UL'])\n",
    "                tile((col, row), corner, color)\n",
    "                tile((col, row), corner, color)"
   ]
  },
  {
   "cell_type": "code",
   "execution_count": 30,
   "metadata": {},
   "outputs": [
    {
     "data": {
      "image/png": "[encoded data removed]",
      "text/plain": [
       "<Figure size 640x480 with 1 Axes>"
      ]
     },
     "metadata": {},
     "output_type": "display_data"
    }
   ],
   "source": [
    "tiling(5,4)"
   ]
  },
  {
   "cell_type": "code",
   "execution_count": null,
   "metadata": {},
   "outputs": [],
   "source": []
  }
 ],
 "metadata": {
  "kernelspec": {
   "display_name": "Python 3",
   "language": "python",
   "name": "python3"
  },
  "language_info": {
   "codemirror_mode": {
    "name": "ipython",
    "version": 3
   },
   "file_extension": ".py",
   "mimetype": "text/x-python",
   "name": "python",
   "nbconvert_exporter": "python",
   "pygments_lexer": "ipython3",
   "version": "3.12.8"
  }
 },
 "nbformat": 4,
 "nbformat_minor": 2
}
