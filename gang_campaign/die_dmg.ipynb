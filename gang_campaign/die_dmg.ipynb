{
 "cells": [
  {
   "cell_type": "code",
   "execution_count": 23,
   "id": "75ae4cb1",
   "metadata": {},
   "outputs": [],
   "source": [
    "def die_stats(die : str):\n",
    "    dice = die.replace(' ', '').split('+')\n",
    "    mu = 0.0\n",
    "    var = 0.0\n",
    "    min = 0.0\n",
    "    max = 0.0\n",
    "    for d in dice:\n",
    "        try: \n",
    "            d = float(d)\n",
    "            mu += d\n",
    "            min += d\n",
    "            max += d\n",
    "        except:\n",
    "            num, sides = [float(x) for x in d.split('d')]\n",
    "            mu += num * (sides + 1)/2\n",
    "            var += num * (sides**2 - 1)/12\n",
    "            min += num\n",
    "            max += num * sides\n",
    "            \n",
    "    sigma = var**0.5\n",
    "    print(f'Mean : {mu}\\nStd. : {sigma}\\nMin. : {min}\\nMax. : {max}')\n",
    "    return mu, sigma\n",
    "            "
   ]
  },
  {
   "cell_type": "code",
   "execution_count": 27,
   "id": "1aec4469",
   "metadata": {},
   "outputs": [
    {
     "name": "stdout",
     "output_type": "stream",
     "text": [
      "Mean : 52.0\n",
      "Std. : 6.48074069840786\n",
      "Min. : 24.0\n",
      "Max. : 80.0\n"
     ]
    },
    {
     "data": {
      "text/plain": [
       "(52.0, 6.48074069840786)"
      ]
     },
     "execution_count": 27,
     "metadata": {},
     "output_type": "execute_result"
    }
   ],
   "source": [
    "die_stats('8d8+16')"
   ]
  },
  {
   "cell_type": "code",
   "execution_count": null,
   "id": "6e74f488",
   "metadata": {},
   "outputs": [],
   "source": []
  }
 ],
 "metadata": {
  "kernelspec": {
   "display_name": "base",
   "language": "python",
   "name": "python3"
  },
  "language_info": {
   "codemirror_mode": {
    "name": "ipython",
    "version": 3
   },
   "file_extension": ".py",
   "mimetype": "text/x-python",
   "name": "python",
   "nbconvert_exporter": "python",
   "pygments_lexer": "ipython3",
   "version": "3.11.5"
  }
 },
 "nbformat": 4,
 "nbformat_minor": 5
}
